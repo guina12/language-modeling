{
  "nbformat": 4,
  "nbformat_minor": 0,
  "metadata": {
    "colab": {
      "provenance": []
    },
    "kernelspec": {
      "name": "python3",
      "display_name": "Python 3"
    },
    "language_info": {
      "name": "python"
    }
  },
  "cells": [
    {
      "cell_type": "code",
      "execution_count": null,
      "metadata": {
        "id": "NbFX5r574POz"
      },
      "outputs": [],
      "source": [
        "import torch\n",
        "import matplotlib.pyplot as plt\n",
        "import torch.nn.functional as F\n",
        "import random\n",
        "%matplotlib inline"
      ]
    },
    {
      "cell_type": "code",
      "source": [
        "with open('/content/names.txt',mode='r',encoding='utf-8') as f:\n",
        "  words=f.read().split()"
      ],
      "metadata": {
        "id": "0TpCK2hv5Hz_"
      },
      "execution_count": null,
      "outputs": []
    },
    {
      "cell_type": "code",
      "source": [
        "vocab=sorted(set(list(''.join(words))))"
      ],
      "metadata": {
        "id": "bmosxdQxI5Xc"
      },
      "execution_count": null,
      "outputs": []
    },
    {
      "cell_type": "code",
      "source": [
        "# build the vocabulary of characters and mapping to /from integers\n",
        "stoi ={s:i+1 for i , s in enumerate(vocab)}\n",
        "stoi['.']=0\n",
        "# reverse mapping\n",
        "itos={i:s for  s,i in stoi.items()}"
      ],
      "metadata": {
        "id": "RgZGw7v67gmE"
      },
      "execution_count": null,
      "outputs": []
    },
    {
      "cell_type": "code",
      "source": [
        "def build_dataset(words):\n",
        "\n",
        "  X,Y=[],[]\n",
        "\n",
        "  block_size=3\n",
        "  context=[0]*block_size\n",
        "  for w in words:\n",
        "    for ch in w + '.':\n",
        "      ix=stoi[ch]\n",
        "      X.append(context)\n",
        "      Y.append(ix)\n",
        "      context=context[1:] + [ix]\n",
        "\n",
        "  X=torch.tensor(X)\n",
        "  Y=torch.tensor(Y)\n",
        "  print(X.shape,Y.shape)\n",
        "\n",
        "  return X,Y"
      ],
      "metadata": {
        "id": "2swAYhuu8xq-"
      },
      "execution_count": null,
      "outputs": []
    },
    {
      "cell_type": "code",
      "source": [
        "block_size=3"
      ],
      "metadata": {
        "id": "PgnhlMMOM7FF"
      },
      "execution_count": null,
      "outputs": []
    },
    {
      "cell_type": "code",
      "source": [
        "random.seed(42)\n",
        "random.shuffle(words)"
      ],
      "metadata": {
        "id": "VT579y2gK2-r"
      },
      "execution_count": null,
      "outputs": []
    },
    {
      "cell_type": "code",
      "source": [
        "n1=int(0.8*len(words))\n",
        "n2=int(0.9*len(words))\n",
        "\n",
        "Xtr,Ytr=build_dataset(words[:n1]) #  80%\n",
        "Xdev,Ydev=build_dataset(words[n1:n2]) #  10%\n",
        "Xte,yte=build_dataset(words[n2:]) # 10%"
      ],
      "metadata": {
        "colab": {
          "base_uri": "https://localhost:8080/"
        },
        "id": "425IItdtJX0v",
        "outputId": "4c775abe-67f9-4ccd-de06-5f7049233ef3"
      },
      "execution_count": null,
      "outputs": [
        {
          "output_type": "stream",
          "name": "stdout",
          "text": [
            "torch.Size([182625, 3]) torch.Size([182625])\n",
            "torch.Size([22655, 3]) torch.Size([22655])\n",
            "torch.Size([22866, 3]) torch.Size([22866])\n"
          ]
        }
      ]
    },
    {
      "cell_type": "code",
      "source": [
        "n_embed=10\n",
        "n_hidden=200\n",
        "\n",
        "\n",
        "g=torch.Generator().manual_seed(2134563788) # for reproducibility\n",
        "C=torch.randn([len(vocab)+1,n_embed],             generator=g)\n",
        "W1=torch.randn([n_embed * block_size,n_hidden] ,  generator=g)\n",
        "b1=torch.randn(n_hidden,                          generator=g)\n",
        "W2=torch.randn([n_hidden,len(vocab)+1],           generator=g)*0.01\n",
        "b2=torch.randn(len(vocab)+1,                      generator=g)*0\n",
        "parameters=[C,W1,b1,W2,b2]"
      ],
      "metadata": {
        "id": "AY1fIS9rJklP"
      },
      "execution_count": null,
      "outputs": []
    },
    {
      "cell_type": "code",
      "source": [
        "sum(p.nelement() for p in parameters)"
      ],
      "metadata": {
        "colab": {
          "base_uri": "https://localhost:8080/"
        },
        "id": "x-dDiv_DbbXl",
        "outputId": "8d9226d8-ec01-419b-c1be-37d4ace5b493"
      },
      "execution_count": null,
      "outputs": [
        {
          "output_type": "execute_result",
          "data": {
            "text/plain": [
              "11897"
            ]
          },
          "metadata": {},
          "execution_count": 10
        }
      ]
    },
    {
      "cell_type": "code",
      "source": [
        "for p in parameters:\n",
        "  p.requires_grad=True"
      ],
      "metadata": {
        "id": "6V-k9jgfbkCi"
      },
      "execution_count": null,
      "outputs": []
    },
    {
      "cell_type": "code",
      "source": [
        "lossi=[]\n",
        "stepsi=[]"
      ],
      "metadata": {
        "id": "XdgBFYAyPjr0"
      },
      "execution_count": null,
      "outputs": []
    },
    {
      "cell_type": "code",
      "source": [
        "batch_size=32\n",
        "max_steps=10000\n",
        "\n",
        "for  i in range(max_steps):\n",
        "\n",
        "  # minibatch construct\n",
        "  ix=torch.randint(0,Xtr.shape[0],(batch_size,),generator=g)\n",
        "  Xb,Yb=Xtr[ix],Ytr[ix] # batch X,Y\n",
        "\n",
        "  # forward pass\n",
        "  emb=C[Xb] # embed the characters into vectors\n",
        "  embcat=emb.view(emb.shape[0],emb.shape[1]*emb.shape[2]) # concatenate the vectors\n",
        "  hpreact=embcat @ W1+b1 #  hidden layer pre - activation\n",
        "  h=torch.tanh(hpreact) # hidden layer\n",
        "  logits=h @ W2+b2 # output layer\n",
        "  loss=F.cross_entropy(logits,Ytr[Yb]) # loss_funtion\n",
        "  #print(f'loss:{loss.item()},epochs:{i+1}')\n",
        "\n",
        "  for  p in parameters:\n",
        "    p.grad=None\n",
        "\n",
        "  # backward pass\n",
        "  loss.backward()\n",
        "\n",
        "  # update\n",
        "  lr=0 if i  < 10000 else 0.01\n",
        "  for p  in parameters:\n",
        "    p.data+=-lr*p.grad\n",
        "\n",
        "  # strack stats\n",
        "  if i % 1000==0:# print every once in while\n",
        "    print(f'{i:7d}/{max_steps:7d}:{loss.item():.4f}')\n",
        "  lossi.append(loss.log10().item())\n",
        "\n",
        "  break\n"
      ],
      "metadata": {
        "colab": {
          "base_uri": "https://localhost:8080/"
        },
        "id": "OlzefVgNJ695",
        "outputId": "be004a5d-9fea-4085-ff63-b5f4d5a15330"
      },
      "execution_count": null,
      "outputs": [
        {
          "output_type": "stream",
          "name": "stdout",
          "text": [
            "      0/  10000:3.2931\n"
          ]
        }
      ]
    },
    {
      "cell_type": "code",
      "source": [
        "@torch.no_grad()\n",
        "def  split_loss(split):\n",
        "  x,y={\n",
        "      'train':(Xtr,Ytr),\n",
        "      'val':(Xdev,Ydev),\n",
        "      'test':(Xte,yte),\n",
        "  }[split]\n",
        "\n",
        "  emb=C[x]\n",
        "  embcat=emb.view(emb.shape[0],emb.shape[1]*emb.shape[2])\n",
        "  hpreact=embcat @ W1 + b1\n",
        "  h=torch.tanh(hpreact)\n",
        "  logits=h @ W2+ b2\n",
        "  loss=F.cross_entropy(logits,y)\n",
        "  print(split,loss.item())\n",
        "\n",
        "split_loss('train')\n",
        "split_loss('val')"
      ],
      "metadata": {
        "colab": {
          "base_uri": "https://localhost:8080/"
        },
        "id": "b_dJwcMLhpE6",
        "outputId": "b7a6c5c1-939d-45cf-b2dd-00239400fbc8"
      },
      "execution_count": null,
      "outputs": [
        {
          "output_type": "stream",
          "name": "stdout",
          "text": [
            "train 3.3029866218566895\n",
            "val 3.3033149242401123\n"
          ]
        }
      ]
    },
    {
      "cell_type": "markdown",
      "source": [
        "# **1-fixing the saturated tanh**"
      ],
      "metadata": {
        "id": "9U8IaAp_lm4W"
      }
    },
    {
      "cell_type": "code",
      "source": [
        "plt.hist(h.view(-1).tolist(),50);"
      ],
      "metadata": {
        "colab": {
          "base_uri": "https://localhost:8080/",
          "height": 430
        },
        "id": "uA1hf0XimB3q",
        "outputId": "5d24f1be-a94b-4d53-bc2c-cf6486217403"
      },
      "execution_count": null,
      "outputs": [
        {
          "output_type": "display_data",
          "data": {
            "text/plain": [
              "<Figure size 640x480 with 1 Axes>"
            ],
            "image/png": "[encoded data removed]"
          },
          "metadata": {}
        }
      ]
    },
    {
      "cell_type": "code",
      "source": [
        "plt.hist(hpreact.view(-1).tolist(),50);"
      ],
      "metadata": {
        "id": "V28BPtL5oEjk",
        "outputId": "2b430b93-7672-4dce-dbb8-72670e8017fe",
        "colab": {
          "base_uri": "https://localhost:8080/",
          "height": 430
        }
      },
      "execution_count": null,
      "outputs": [
        {
          "output_type": "display_data",
          "data": {
            "text/plain": [
              "<Figure size 640x480 with 1 Axes>"
            ],
            "image/png": "[encoded data removed]"
          },
          "metadata": {}
        }
      ]
    },
    {
      "cell_type": "code",
      "source": [
        "plt.figure(figsize=(20,10))\n",
        "plt.imshow(h.abs() > 0.99,cmap='gray',interpolation='nearest')"
      ],
      "metadata": {
        "colab": {
          "base_uri": "https://localhost:8080/",
          "height": 206
        },
        "id": "bwGwU1DAut1L",
        "outputId": "36f8d1f5-e589-495c-c6a9-039f4543810c"
      },
      "execution_count": null,
      "outputs": [
        {
          "output_type": "execute_result",
          "data": {
            "text/plain": [
              "<matplotlib.image.AxesImage at 0x79e7ca2471f0>"
            ]
          },
          "metadata": {},
          "execution_count": 17
        },
        {
          "output_type": "display_data",
          "data": {
            "text/plain": [
              "<Figure size 2000x1000 with 1 Axes>"
            ],
            "image/png": "[encoded data removed]"
          },
          "metadata": {}
        }
      ]
    },
    {
      "cell_type": "code",
      "source": [
        "n_embed=10\n",
        "n_hidden=200\n",
        "\n",
        "\n",
        "g=torch.Generator().manual_seed(2134563788) # for reproducibility\n",
        "C=torch.randn([len(vocab)+1,n_embed],             generator=g)\n",
        "W1=torch.randn([n_embed * block_size,n_hidden] ,  generator=g) *0.2\n",
        "b1=torch.randn(n_hidden,                          generator=g) *0.01\n",
        "W2=torch.randn([n_hidden,len(vocab)+1],           generator=g)*0.01\n",
        "b2=torch.randn(len(vocab)+1,                      generator=g)*0\n",
        "parameters=[C,W1,b1,W2,b2]"
      ],
      "metadata": {
        "id": "hDGG764kEnoW"
      },
      "execution_count": null,
      "outputs": []
    },
    {
      "cell_type": "code",
      "source": [
        "for p in parameters:\n",
        "  p.requires_grad=True"
      ],
      "metadata": {
        "id": "rRfCGThsE7uC"
      },
      "execution_count": null,
      "outputs": []
    },
    {
      "cell_type": "code",
      "source": [
        "batch_size=32\n",
        "max_steps=10000\n",
        "\n",
        "for  i in range(max_steps):\n",
        "\n",
        "  # minibatch construct\n",
        "  ix=torch.randint(0,Xtr.shape[0],(batch_size,),generator=g)\n",
        "  Xb,Yb=Xtr[ix],Ytr[ix] # batch X,Y\n",
        "\n",
        "  # forward pass\n",
        "  emb=C[Xb] # embed the characters into vectors\n",
        "  embcat=emb.view(emb.shape[0],emb.shape[1]*emb.shape[2]) # concatenate the vectors\n",
        "  hpreact=embcat @ W1+b1 #  hidden layer pre - activation\n",
        "  h=torch.tanh(hpreact) # hidden layer\n",
        "  logits=h @ W2+b2 # output layer\n",
        "  loss=F.cross_entropy(logits,Ytr[Yb]) # loss_funtion\n",
        "  #print(f'loss:{loss.item()},epochs:{i+1}')\n",
        "\n",
        "  for  p in parameters:\n",
        "    p.grad=None\n",
        "\n",
        "  # backward pass\n",
        "  loss.backward()\n",
        "\n",
        "  # update\n",
        "  lr=0 if i  < 10000 else 0.01\n",
        "  for p  in parameters:\n",
        "    p.data+=-lr*p.grad\n",
        "\n",
        "  # strack stats\n",
        "  if i % 1000==0:# print every once in while\n",
        "    print(f'{i:7d}/{max_steps:7d}:{loss.item():.4f}')\n",
        "  lossi.append(loss.log10().item())"
      ],
      "metadata": {
        "colab": {
          "base_uri": "https://localhost:8080/"
        },
        "id": "-Om5ItB1Es1V",
        "outputId": "ea88c1bb-208f-48a1-e0b5-6b549e860ee1"
      },
      "execution_count": null,
      "outputs": [
        {
          "output_type": "stream",
          "name": "stdout",
          "text": [
            "      0/  10000:3.2966\n",
            "   1000/  10000:3.2655\n",
            "   2000/  10000:3.2882\n",
            "   3000/  10000:3.2913\n",
            "   4000/  10000:3.3130\n",
            "   5000/  10000:3.3048\n",
            "   6000/  10000:3.3190\n",
            "   7000/  10000:3.3022\n",
            "   8000/  10000:3.3076\n",
            "   9000/  10000:3.2955\n"
          ]
        }
      ]
    },
    {
      "cell_type": "code",
      "source": [
        "@torch.no_grad()\n",
        "def  split_loss(split):\n",
        "  x,y={\n",
        "      'train':(Xtr,Ytr),\n",
        "      'val':(Xdev,Ydev),\n",
        "      'test':(Xte,yte),\n",
        "  }[split]\n",
        "\n",
        "  emb=C[x]\n",
        "  embcat=emb.view(emb.shape[0],emb.shape[1]*emb.shape[2])\n",
        "  hpreact=embcat @ W1 + b1\n",
        "  h=torch.tanh(hpreact)\n",
        "  logits=h @ W2+ b2\n",
        "  loss=F.cross_entropy(logits,y)\n",
        "  print(split,loss.item())\n",
        "\n",
        "split_loss('train')\n",
        "split_loss('val')"
      ],
      "metadata": {
        "colab": {
          "base_uri": "https://localhost:8080/"
        },
        "id": "rHFptKJcEzAi",
        "outputId": "38c57882-4d2c-4ebc-b827-bff775f3ef49"
      },
      "execution_count": null,
      "outputs": [
        {
          "output_type": "stream",
          "name": "stdout",
          "text": [
            "train 3.2979278564453125\n",
            "val 3.297978162765503\n"
          ]
        }
      ]
    },
    {
      "cell_type": "code",
      "source": [
        "plt.hist(h.view(-1).tolist(),50);"
      ],
      "metadata": {
        "colab": {
          "base_uri": "https://localhost:8080/",
          "height": 430
        },
        "id": "sMDv8B9UFD_d",
        "outputId": "6ebfdcfe-a996-42e5-f0b8-8e4751063e30"
      },
      "execution_count": null,
      "outputs": [
        {
          "output_type": "display_data",
          "data": {
            "text/plain": [
              "<Figure size 640x480 with 1 Axes>"
            ],
            "image/png": "[encoded data removed]"
          },
          "metadata": {}
        }
      ]
    },
    {
      "cell_type": "code",
      "source": [
        "plt.hist(hpreact.view(-1).tolist(),50);"
      ],
      "metadata": {
        "colab": {
          "base_uri": "https://localhost:8080/",
          "height": 430
        },
        "id": "64mX8zAcFKBj",
        "outputId": "e48198a5-d295-4b99-db57-20a5ca6fd017"
      },
      "execution_count": null,
      "outputs": [
        {
          "output_type": "display_data",
          "data": {
            "text/plain": [
              "<Figure size 640x480 with 1 Axes>"
            ],
            "image/png": "[encoded data removed]"
          },
          "metadata": {}
        }
      ]
    },
    {
      "cell_type": "code",
      "source": [
        "plt.plot(lossi)"
      ],
      "metadata": {
        "colab": {
          "base_uri": "https://localhost:8080/",
          "height": 447
        },
        "id": "hzWbhdfGHSm8",
        "outputId": "3dfc3424-db35-4d2a-b2de-7a1fddcbd319"
      },
      "execution_count": null,
      "outputs": [
        {
          "output_type": "execute_result",
          "data": {
            "text/plain": [
              "[<matplotlib.lines.Line2D at 0x79e7ca2a02b0>]"
            ]
          },
          "metadata": {},
          "execution_count": 24
        },
        {
          "output_type": "display_data",
          "data": {
            "text/plain": [
              "<Figure size 640x480 with 1 Axes>"
            ],
            "image/png": "[encoded data removed]"
          },
          "metadata": {}
        }
      ]
    },
    {
      "cell_type": "code",
      "source": [
        "plt.figure(figsize=(20,10))\n",
        "plt.imshow(h.abs() > 0.99,cmap='gray',interpolation='nearest')"
      ],
      "metadata": {
        "colab": {
          "base_uri": "https://localhost:8080/",
          "height": 206
        },
        "id": "jNHFoz7aFPue",
        "outputId": "2a24dea3-b824-4cd6-ecd2-90c67a672ea6"
      },
      "execution_count": null,
      "outputs": [
        {
          "output_type": "execute_result",
          "data": {
            "text/plain": [
              "<matplotlib.image.AxesImage at 0x79e7ca267f10>"
            ]
          },
          "metadata": {},
          "execution_count": 25
        },
        {
          "output_type": "display_data",
          "data": {
            "text/plain": [
              "<Figure size 2000x1000 with 1 Axes>"
            ],
            "image/png": "[encoded data removed]"
          },
          "metadata": {}
        }
      ]
    },
    {
      "cell_type": "markdown",
      "source": [
        "# **2-Calculating the init scale: “Kaiming init”**"
      ],
      "metadata": {
        "id": "CfyCWCYfIUy-"
      }
    },
    {
      "cell_type": "code",
      "source": [
        "n_embed=10\n",
        "n_hidden=200\n",
        "\n",
        "\n",
        "g=torch.Generator().manual_seed(2134563788) # for reproducibility\n",
        "C=torch.randn([len(vocab)+1,n_embed],             generator=g)\n",
        "W1=torch.randn([n_embed * block_size,n_hidden] ,  generator=g) *(5/3) / ((n_embed * block_size)**0.5)  #0.2\n",
        "b1=torch.randn(n_hidden,                          generator=g) *0.01\n",
        "W2=torch.randn([n_hidden,len(vocab)+1],           generator=g)*0.01\n",
        "b2=torch.randn(len(vocab)+1,                      generator=g)*0\n",
        "parameters=[C,W1,b1,W2,b2]"
      ],
      "metadata": {
        "id": "IcmyKuIUX4A6"
      },
      "execution_count": null,
      "outputs": []
    },
    {
      "cell_type": "code",
      "source": [
        "for p in parameters:\n",
        "  p.requires_grad=True"
      ],
      "metadata": {
        "id": "6TjJIhWCbsVG"
      },
      "execution_count": null,
      "outputs": []
    },
    {
      "cell_type": "code",
      "source": [
        "lossi=[]"
      ],
      "metadata": {
        "id": "i5HX5pdGb5zv"
      },
      "execution_count": null,
      "outputs": []
    },
    {
      "cell_type": "code",
      "source": [
        "batch_size=32\n",
        "max_steps=10000\n",
        "\n",
        "for  i in range(max_steps):\n",
        "\n",
        "  # minibatch construct\n",
        "  ix=torch.randint(0,Xtr.shape[0],(batch_size,),generator=g)\n",
        "  Xb,Yb=Xtr[ix],Ytr[ix] # batch X,Y\n",
        "\n",
        "  # forward pass\n",
        "  emb=C[Xb] # embed the characters into vectors\n",
        "  embcat=emb.view(emb.shape[0],emb.shape[1]*emb.shape[2]) # concatenate the vectors\n",
        "  hpreact=embcat @ W1+b1 #  hidden layer pre - activation\n",
        "  h=torch.tanh(hpreact) # hidden layer\n",
        "  logits=h @ W2+b2 # output layer\n",
        "  loss=F.cross_entropy(logits,Ytr[Yb]) # loss_funtion\n",
        "  #print(f'loss:{loss.item()},epochs:{i+1}')\n",
        "\n",
        "  for  p in parameters:\n",
        "    p.grad=None\n",
        "\n",
        "  # backward pass\n",
        "  loss.backward()\n",
        "\n",
        "  # update\n",
        "  lr=0 if i  < 10000 else 0.01\n",
        "  for p  in parameters:\n",
        "    p.data+=-lr*p.grad\n",
        "\n",
        "  # strack stats\n",
        "  if i % 1000==0:# print every once in while\n",
        "    print(f'{i:7d}/{max_steps:7d}:{loss.item():.4f}')\n",
        "  lossi.append(loss.log10().item())"
      ],
      "metadata": {
        "colab": {
          "base_uri": "https://localhost:8080/"
        },
        "id": "N5PU9PkgbXAt",
        "outputId": "94e757c9-2073-4906-df7d-dc05a713613e"
      },
      "execution_count": null,
      "outputs": [
        {
          "output_type": "stream",
          "name": "stdout",
          "text": [
            "      0/  10000:3.2948\n",
            "   1000/  10000:3.2620\n",
            "   2000/  10000:3.2879\n",
            "   3000/  10000:3.2919\n",
            "   4000/  10000:3.3173\n",
            "   5000/  10000:3.3061\n",
            "   6000/  10000:3.3239\n",
            "   7000/  10000:3.3045\n",
            "   8000/  10000:3.3104\n",
            "   9000/  10000:3.2958\n"
          ]
        }
      ]
    },
    {
      "cell_type": "code",
      "source": [
        "@torch.no_grad()\n",
        "def  split_loss(split):\n",
        "  x,y={\n",
        "      'train':(Xtr,Ytr),\n",
        "      'val':(Xdev,Ydev),\n",
        "      'test':(Xte,yte),\n",
        "  }[split]\n",
        "\n",
        "  emb=C[x]\n",
        "  embcat=emb.view(emb.shape[0],emb.shape[1]*emb.shape[2])\n",
        "  hpreact=embcat @ W1 + b1\n",
        "  h=torch.tanh(hpreact)\n",
        "  logits=h @ W2+ b2\n",
        "  loss=F.cross_entropy(logits,y)\n",
        "  print(split,loss.item())\n",
        "\n",
        "split_loss('train')\n",
        "split_loss('val')"
      ],
      "metadata": {
        "colab": {
          "base_uri": "https://localhost:8080/"
        },
        "id": "VOXBvvHhbl-e",
        "outputId": "c3ee1789-018e-4f2a-a553-a36017cdc807"
      },
      "execution_count": null,
      "outputs": [
        {
          "output_type": "stream",
          "name": "stdout",
          "text": [
            "train 3.2994370460510254\n",
            "val 3.299485206604004\n"
          ]
        }
      ]
    },
    {
      "cell_type": "code",
      "source": [
        "plt.plot(lossi)"
      ],
      "metadata": {
        "colab": {
          "base_uri": "https://localhost:8080/",
          "height": 447
        },
        "id": "f8YB_dQRbfym",
        "outputId": "f2a60941-24fd-45fd-e262-d40a739d30dd"
      },
      "execution_count": null,
      "outputs": [
        {
          "output_type": "execute_result",
          "data": {
            "text/plain": [
              "[<matplotlib.lines.Line2D at 0x79e85c31b910>]"
            ]
          },
          "metadata": {},
          "execution_count": 31
        },
        {
          "output_type": "display_data",
          "data": {
            "text/plain": [
              "<Figure size 640x480 with 1 Axes>"
            ],
            "image/png": "[encoded data removed]"
          },
          "metadata": {}
        }
      ]
    },
    {
      "cell_type": "markdown",
      "source": [
        "#**3-Batch normalization**"
      ],
      "metadata": {
        "id": "UDCoaA1dcPBp"
      }
    },
    {
      "cell_type": "code",
      "source": [
        "n_embed=10\n",
        "n_hidden=200\n",
        "\n",
        "\n",
        "g=torch.Generator().manual_seed(2134563788) # for reproducibility\n",
        "C=torch.randn([len(vocab)+1,n_embed],             generator=g)\n",
        "# Layer 1\n",
        "W1=torch.randn([n_embed * block_size,n_hidden] ,  generator=g) *(5/3) / ((n_embed * block_size)**0.5)  #0.2\n",
        "b1=torch.randn(n_hidden,                          generator=g) *0.01\n",
        "# Layer 2\n",
        "W2=torch.randn([n_hidden,len(vocab)+1],           generator=g)*0.01\n",
        "b2=torch.randn(len(vocab)+1,                      generator=g)*0\n",
        "# BatchNorm parameters\n",
        "bngain=torch.randn(1,n_hidden                             )*0.1+1.0\n",
        "bnbias=torch.randn(1,n_hidden                            )*0.1\n",
        "\n",
        "\n",
        "\n",
        "parameters=[C,W1,b1,W2,b2,bngain,bnbias]\n",
        "sum(p.nelement() for   p in parameters) # total numbers of parameters\n",
        "for p  in parameters :\n",
        "  p.requires_grad=True"
      ],
      "metadata": {
        "id": "8VgLNTV2Y4zu"
      },
      "execution_count": null,
      "outputs": []
    },
    {
      "cell_type": "code",
      "source": [
        "batch_size=32\n",
        "max_steps=10000\n",
        "\n",
        "for  i in range(max_steps):\n",
        "\n",
        "  # minibatch construct\n",
        "  ix=torch.randint(0,Xtr.shape[0],(batch_size,),generator=g)\n",
        "  Xb,Yb=Xtr[ix],Ytr[ix] # batch X,Y\n",
        "\n",
        "  # forward pass\n",
        "  emb=C[Xb] # embed the characters into vectors\n",
        "  embcat=emb.view(emb.shape[0],emb.shape[1]*emb.shape[2]) # concatenate the vectors\n",
        "  hpreact=embcat @ W1+b1 #  hidden layer pre - activation\n",
        "  # BatchNorm layer\n",
        "  # ------------------------------------------------------\n",
        "  bnmeani=hpreact.mean(axis=0,keepdim=True)\n",
        "  bnstdi=hpreact.std(axis=0,keepdim=True)\n",
        "  hpreact=bngain*(hpreact-bnmeani) / bnstdi + bnbias\n",
        "\n",
        "  with torch.no_grad():\n",
        "    bnmean_running=0.999 * bnmean_running + 0.001*bnmeani\n",
        "    bnstd_running=0.999 * bnstd_running + 0.001*bnstdi\n",
        "\n",
        "\n",
        "  h=torch.tanh(hpreact) # hidden layer\n",
        "  logits=h @ W2+b2 # output layer\n",
        "  loss=F.cross_entropy(logits,Ytr[Yb]) # loss_funtion\n",
        "  #print(f'loss:{loss.item()},epochs:{i+1}')\n",
        "\n",
        "  for  p in parameters:\n",
        "    p.grad=None\n",
        "\n",
        "  # backward pass\n",
        "  loss.backward()\n",
        "\n",
        "  # update\n",
        "  lr=0 if i  < 10000 else 0.01\n",
        "  for p  in parameters:\n",
        "    p.data+=-lr*p.grad\n",
        "\n",
        "  # strack stats\n",
        "  if i % 1000==0:# print every once in while\n",
        "    print(f'{i:7d}/{max_steps:7d}:{loss.item():.4f}')\n",
        "  lossi.append(loss.log10().item())"
      ],
      "metadata": {
        "colab": {
          "base_uri": "https://localhost:8080/"
        },
        "id": "WG4weffkWYms",
        "outputId": "c59241d3-3e35-45ef-aee7-41054173585f"
      },
      "execution_count": null,
      "outputs": [
        {
          "output_type": "stream",
          "name": "stdout",
          "text": [
            "      0/  10000:3.3009\n",
            "   1000/  10000:3.2686\n",
            "   2000/  10000:3.2939\n",
            "   3000/  10000:3.2873\n",
            "   4000/  10000:3.3110\n",
            "   5000/  10000:3.3164\n",
            "   6000/  10000:3.3180\n",
            "   7000/  10000:3.3078\n",
            "   8000/  10000:3.3183\n",
            "   9000/  10000:3.2980\n"
          ]
        }
      ]
    },
    {
      "cell_type": "code",
      "source": [
        "@torch.no_grad()\n",
        "def  split_loss(split):\n",
        "  x,y={\n",
        "      'train':(Xtr,Ytr),\n",
        "      'val':(Xdev,Ydev),\n",
        "      'test':(Xte,yte),\n",
        "  }[split]\n",
        "\n",
        "  emb=C[x]\n",
        "  embcat=emb.view(emb.shape[0],emb.shape[1]*emb.shape[2])\n",
        "  hpreact=embcat @ W1 + b1\n",
        "  hpreact=bngain*(hpreact-bnmean_running) / bnstd_running + bnbias\n",
        "  h=torch.tanh(hpreact)\n",
        "  logits=h @ W2+ b2\n",
        "  loss=F.cross_entropy(logits,y)\n",
        "  print(split,loss.item())\n",
        "\n",
        "split_loss('train')\n",
        "split_loss('val')"
      ],
      "metadata": {
        "colab": {
          "base_uri": "https://localhost:8080/"
        },
        "id": "BU59Wk2ihZuC",
        "outputId": "b224ac39-9e87-4546-8676-4fdb7f05ba21"
      },
      "execution_count": null,
      "outputs": [
        {
          "output_type": "stream",
          "name": "stdout",
          "text": [
            "train 3.299492120742798\n",
            "val 3.2995262145996094\n"
          ]
        }
      ]
    }
  ]
}