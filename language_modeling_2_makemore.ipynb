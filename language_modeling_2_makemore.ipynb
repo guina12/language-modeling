{
  "nbformat": 4,
  "nbformat_minor": 0,
  "metadata": {
    "colab": {
      "provenance": []
    },
    "kernelspec": {
      "name": "python3",
      "display_name": "Python 3"
    },
    "language_info": {
      "name": "python"
    }
  },
  "cells": [
    {
      "cell_type": "markdown",
      "source": [
        "- In the last project **i created a language model** based only on the **bigrams**, the idea was to **predict the next character of the sequence**, taking into account the previous character."
      ],
      "metadata": {
        "id": "ggVDDkKJ2RPI"
      }
    },
    {
      "cell_type": "markdown",
      "source": [
        "- For that project we will use an **MLP to handle this task**."
      ],
      "metadata": {
        "id": "XIimcEEt2ip5"
      }
    },
    {
      "cell_type": "code",
      "source": [
        "import torch\n",
        "import matplotlib.pyplot as plt\n",
        "import torch.nn.functional as F\n",
        "%matplotlib inline"
      ],
      "metadata": {
        "id": "YhBKrmhbAA23"
      },
      "execution_count": null,
      "outputs": []
    },
    {
      "cell_type": "code",
      "source": [
        "# read in all the words\n",
        "with  open('/content/names.txt',mode='r', encoding='utf-8') as f:\n",
        "  words=f.read().split()"
      ],
      "metadata": {
        "id": "1kfY6O2i2ono"
      },
      "execution_count": null,
      "outputs": []
    },
    {
      "cell_type": "code",
      "source": [
        "words[:10]"
      ],
      "metadata": {
        "colab": {
          "base_uri": "https://localhost:8080/"
        },
        "id": "QU6IIHDb288X",
        "outputId": "d4f84b54-8c14-4ec0-f014-78d507e22f2a"
      },
      "execution_count": null,
      "outputs": [
        {
          "output_type": "execute_result",
          "data": {
            "text/plain": [
              "['emma',\n",
              " 'olivia',\n",
              " 'ava',\n",
              " 'isabella',\n",
              " 'sophia',\n",
              " 'charlotte',\n",
              " 'mia',\n",
              " 'amelia',\n",
              " 'harper',\n",
              " 'evelyn']"
            ]
          },
          "metadata": {},
          "execution_count": 3
        }
      ]
    },
    {
      "cell_type": "code",
      "source": [
        "len(words)"
      ],
      "metadata": {
        "colab": {
          "base_uri": "https://localhost:8080/"
        },
        "id": "SX9gl-X092dB",
        "outputId": "0512ea8f-b0ab-4272-8fda-8fd90b82981c"
      },
      "execution_count": null,
      "outputs": [
        {
          "output_type": "execute_result",
          "data": {
            "text/plain": [
              "32033"
            ]
          },
          "metadata": {},
          "execution_count": 4
        }
      ]
    },
    {
      "cell_type": "markdown",
      "source": [
        "# **1-Building our training dataset**"
      ],
      "metadata": {
        "id": "d395DMaz-FFJ"
      }
    },
    {
      "cell_type": "code",
      "source": [
        "chidx=[]\n",
        "for word in words:\n",
        "  for ch in word:\n",
        "    if ch not in chidx:\n",
        "      chidx.append(ch)"
      ],
      "metadata": {
        "id": "OG2E1mtp-ShJ"
      },
      "execution_count": null,
      "outputs": []
    },
    {
      "cell_type": "code",
      "source": [
        "vocab=sorted(chidx)\n",
        "print(vocab,end='')"
      ],
      "metadata": {
        "colab": {
          "base_uri": "https://localhost:8080/"
        },
        "id": "ZxezXy7v-qd6",
        "outputId": "99088ec6-e39c-4e02-f022-af4b32d6e1a0"
      },
      "execution_count": null,
      "outputs": [
        {
          "output_type": "stream",
          "name": "stdout",
          "text": [
            "['a', 'b', 'c', 'd', 'e', 'f', 'g', 'h', 'i', 'j', 'k', 'l', 'm', 'n', 'o', 'p', 'q', 'r', 's', 't', 'u', 'v', 'w', 'x', 'y', 'z']"
          ]
        }
      ]
    },
    {
      "cell_type": "code",
      "source": [
        "# build the vocabulary of characters and mapping to /from integers\n",
        "stoi ={s:i+1 for i , s in enumerate(vocab)}\n",
        "stoi['.']=0\n",
        "# reverse mapping\n",
        "itos={i:s for  s,i in stoi.items()}"
      ],
      "metadata": {
        "id": "zRmIQn4i-3W1"
      },
      "execution_count": null,
      "outputs": []
    },
    {
      "cell_type": "code",
      "source": [
        "print(itos, end='')"
      ],
      "metadata": {
        "colab": {
          "base_uri": "https://localhost:8080/"
        },
        "id": "2Uaxa04f_IHv",
        "outputId": "df820a7a-c579-4c50-840a-5f8c3e003c42"
      },
      "execution_count": null,
      "outputs": [
        {
          "output_type": "stream",
          "name": "stdout",
          "text": [
            "{1: 'a', 2: 'b', 3: 'c', 4: 'd', 5: 'e', 6: 'f', 7: 'g', 8: 'h', 9: 'i', 10: 'j', 11: 'k', 12: 'l', 13: 'm', 14: 'n', 15: 'o', 16: 'p', 17: 'q', 18: 'r', 19: 's', 20: 't', 21: 'u', 22: 'v', 23: 'w', 24: 'x', 25: 'y', 26: 'z', 0: '.'}"
          ]
        }
      ]
    },
    {
      "cell_type": "code",
      "source": [
        "# build the dataset\n",
        "\n",
        "block_size=3 #context length:how many characters do we take to predict the next  one\n",
        "\n",
        "X,Y=[],[]\n",
        "\n",
        "for w in words:\n",
        "\n",
        "  #print(w)\n",
        "\n",
        "  context=[0]*block_size\n",
        "\n",
        "  for ch in w + '.':\n",
        "    ix=stoi[ch]\n",
        "    X.append(context)\n",
        "    Y.append(ix)\n",
        "    #print(' '.join(itos[i] for i in context),'---------->',itos[ix])\n",
        "    context=context[1:] + [ix]\n",
        "\n",
        "X=torch.tensor(X)\n",
        "Y=torch.tensor(Y)"
      ],
      "metadata": {
        "id": "v_4Ra8Kq__nj"
      },
      "execution_count": null,
      "outputs": []
    },
    {
      "cell_type": "markdown",
      "source": [
        "# **2-Implementing the embedding lookup table**"
      ],
      "metadata": {
        "id": "yeDX6eX9SPo4"
      }
    },
    {
      "cell_type": "code",
      "source": [
        "C=torch.randn([27,2])  # Starting the embedding erray with random numbers"
      ],
      "metadata": {
        "id": "lWXpfZHySVY8"
      },
      "execution_count": null,
      "outputs": []
    },
    {
      "cell_type": "code",
      "source": [
        "C.shape"
      ],
      "metadata": {
        "colab": {
          "base_uri": "https://localhost:8080/"
        },
        "id": "Ml9mLDFAT9u_",
        "outputId": "e6509f3c-feb6-45d2-cd0c-3b2d5fce7d8d"
      },
      "execution_count": null,
      "outputs": [
        {
          "output_type": "execute_result",
          "data": {
            "text/plain": [
              "torch.Size([27, 2])"
            ]
          },
          "metadata": {},
          "execution_count": 11
        }
      ]
    },
    {
      "cell_type": "code",
      "source": [
        "'''\n",
        "As we have 27 categories .. we need to retrieve the rows from the embedding matrix..\n",
        "To do this we can create a vector one_hot with (27,27)\n",
        "'''\n",
        "LT=F.one_hot(torch.arange(27),num_classes=27).float() @ C"
      ],
      "metadata": {
        "id": "HGD4mJizUG6q"
      },
      "execution_count": null,
      "outputs": []
    },
    {
      "cell_type": "markdown",
      "source": [
        "- Another way we can do is to directly index the v**ector X in the embedding matrix**"
      ],
      "metadata": {
        "id": "98Ki7WIyb_ib"
      }
    },
    {
      "cell_type": "code",
      "source": [
        "C[X][0,:]"
      ],
      "metadata": {
        "colab": {
          "base_uri": "https://localhost:8080/"
        },
        "id": "EFpnSqZxcYRS",
        "outputId": "983f12b2-9f3d-42a6-d28a-adc390dc3c02"
      },
      "execution_count": null,
      "outputs": [
        {
          "output_type": "execute_result",
          "data": {
            "text/plain": [
              "tensor([[-0.4350,  0.4834],\n",
              "        [-0.4350,  0.4834],\n",
              "        [-0.4350,  0.4834]])"
            ]
          },
          "metadata": {},
          "execution_count": 13
        }
      ]
    },
    {
      "cell_type": "code",
      "source": [
        "emb=C[X]"
      ],
      "metadata": {
        "id": "r78l8yZbev81"
      },
      "execution_count": null,
      "outputs": []
    },
    {
      "cell_type": "code",
      "source": [
        "emb.shape"
      ],
      "metadata": {
        "colab": {
          "base_uri": "https://localhost:8080/"
        },
        "id": "uRVxOB5neyzM",
        "outputId": "94d3e3a6-626b-4b9f-ff6d-1c6de4863700"
      },
      "execution_count": null,
      "outputs": [
        {
          "output_type": "execute_result",
          "data": {
            "text/plain": [
              "torch.Size([228146, 3, 2])"
            ]
          },
          "metadata": {},
          "execution_count": 15
        }
      ]
    },
    {
      "cell_type": "markdown",
      "source": [
        "# **3-Implementing the hidden layer + internals of torch.Tensor: storage, views**"
      ],
      "metadata": {
        "id": "RmKbSMgBhr3P"
      }
    },
    {
      "cell_type": "code",
      "source": [
        "w1=torch.randn(6,100)\n",
        "b1=torch.randn(100)"
      ],
      "metadata": {
        "id": "9RiqBC6Wh3s2"
      },
      "execution_count": null,
      "outputs": []
    },
    {
      "cell_type": "markdown",
      "source": [
        "- The embedding matrix is a tensor with **(B,T,D)** so we cannot perform a **matrix operation**..."
      ],
      "metadata": {
        "id": "DxnPA2IsmOvb"
      }
    },
    {
      "cell_type": "markdown",
      "source": [
        "- To do this, we're going to perform an **axis transposition.**"
      ],
      "metadata": {
        "id": "ghQh7Q-UmiYR"
      }
    },
    {
      "cell_type": "code",
      "source": [
        "emb.reshape(emb.shape[0],emb.shape[1]*emb.shape[2])[:5]"
      ],
      "metadata": {
        "colab": {
          "base_uri": "https://localhost:8080/"
        },
        "id": "K2nOs3NampPz",
        "outputId": "ca08087f-c6ad-479e-ceec-3b9c3aa2cb8e"
      },
      "execution_count": null,
      "outputs": [
        {
          "output_type": "execute_result",
          "data": {
            "text/plain": [
              "tensor([[-0.4350,  0.4834, -0.4350,  0.4834, -0.4350,  0.4834],\n",
              "        [-0.4350,  0.4834, -0.4350,  0.4834,  0.7123,  0.4660],\n",
              "        [-0.4350,  0.4834,  0.7123,  0.4660, -0.2186,  0.1526],\n",
              "        [ 0.7123,  0.4660, -0.2186,  0.1526, -0.2186,  0.1526],\n",
              "        [-0.2186,  0.1526, -0.2186,  0.1526, -0.8642,  0.9322]])"
            ]
          },
          "metadata": {},
          "execution_count": 17
        }
      ]
    },
    {
      "cell_type": "markdown",
      "source": [
        "- Another way to do this is to use the **view operation**"
      ],
      "metadata": {
        "id": "vsoG_IOsq8fl"
      }
    },
    {
      "cell_type": "code",
      "source": [
        "emb.view(emb.shape[0],emb.shape[1]*emb.shape[2])[:5]"
      ],
      "metadata": {
        "colab": {
          "base_uri": "https://localhost:8080/"
        },
        "id": "iNL7OKZjrHLT",
        "outputId": "b2d9cf87-dc65-4f0b-e703-ec4b43cc279a"
      },
      "execution_count": null,
      "outputs": [
        {
          "output_type": "execute_result",
          "data": {
            "text/plain": [
              "tensor([[-0.4350,  0.4834, -0.4350,  0.4834, -0.4350,  0.4834],\n",
              "        [-0.4350,  0.4834, -0.4350,  0.4834,  0.7123,  0.4660],\n",
              "        [-0.4350,  0.4834,  0.7123,  0.4660, -0.2186,  0.1526],\n",
              "        [ 0.7123,  0.4660, -0.2186,  0.1526, -0.2186,  0.1526],\n",
              "        [-0.2186,  0.1526, -0.2186,  0.1526, -0.8642,  0.9322]])"
            ]
          },
          "metadata": {},
          "execution_count": 18
        }
      ]
    },
    {
      "cell_type": "code",
      "source": [
        "h=torch.tanh(emb.view(emb.shape[0],emb.shape[1]*emb.shape[2]) @ w1+b1 )"
      ],
      "metadata": {
        "id": "MtHtIjEasbtq"
      },
      "execution_count": null,
      "outputs": []
    },
    {
      "cell_type": "code",
      "source": [
        "w2=torch.randn(100,27)\n",
        "b2=torch.randn(27)"
      ],
      "metadata": {
        "id": "HOQjpq7Nsgqy"
      },
      "execution_count": null,
      "outputs": []
    },
    {
      "cell_type": "code",
      "source": [
        "logits=h @ w2 + b2"
      ],
      "metadata": {
        "id": "3_3KvXEDvDQd"
      },
      "execution_count": null,
      "outputs": []
    },
    {
      "cell_type": "code",
      "source": [
        "counts=logits.exp()"
      ],
      "metadata": {
        "id": "Hm7T0B_1vN0c"
      },
      "execution_count": null,
      "outputs": []
    },
    {
      "cell_type": "code",
      "source": [
        "probs=counts/counts.sum(1,keepdim=True)"
      ],
      "metadata": {
        "id": "BUo6G3QXvbmw"
      },
      "execution_count": null,
      "outputs": []
    },
    {
      "cell_type": "code",
      "source": [
        "probs.shape"
      ],
      "metadata": {
        "colab": {
          "base_uri": "https://localhost:8080/"
        },
        "id": "-C7UE86W7yLb",
        "outputId": "7e9ae07c-5af4-4bd8-a063-e552b420b37c"
      },
      "execution_count": null,
      "outputs": [
        {
          "output_type": "execute_result",
          "data": {
            "text/plain": [
              "torch.Size([228146, 27])"
            ]
          },
          "metadata": {},
          "execution_count": 24
        }
      ]
    },
    {
      "cell_type": "markdown",
      "source": [
        "#**4-implementing the negative log likelihood loss**"
      ],
      "metadata": {
        "id": "QNcrhQAa7nhf"
      }
    },
    {
      "cell_type": "code",
      "source": [
        "Y"
      ],
      "metadata": {
        "colab": {
          "base_uri": "https://localhost:8080/"
        },
        "id": "Rtqix36z-Ggx",
        "outputId": "d02f86cc-5282-4f2d-d0a9-07f681a982f1"
      },
      "execution_count": null,
      "outputs": [
        {
          "output_type": "execute_result",
          "data": {
            "text/plain": [
              "tensor([ 5, 13, 13,  ..., 26, 24,  0])"
            ]
          },
          "metadata": {},
          "execution_count": 25
        }
      ]
    },
    {
      "cell_type": "code",
      "source": [
        "loss=-probs[torch.arange(Y.shape[0]),Y].log().mean()"
      ],
      "metadata": {
        "id": "JZTF1tfH-Kg3"
      },
      "execution_count": null,
      "outputs": []
    },
    {
      "cell_type": "markdown",
      "source": [
        "# **5-Summary of the full network**"
      ],
      "metadata": {
        "id": "lOKyBcORFkMX"
      }
    },
    {
      "cell_type": "code",
      "source": [
        "g=torch.Generator().manual_seed(2134563788) # for reproducibility\n",
        "C=torch.randn([27,2],requires_grad=True)\n",
        "w1=torch.randn([6,100],requires_grad=True)\n",
        "b1=torch.randn(100,requires_grad=True)\n",
        "w2=torch.randn([100,27],requires_grad=True)\n",
        "b2=torch.randn(27,requires_grad=True)\n",
        "parameters=[C,w1,b1,w2,b2]"
      ],
      "metadata": {
        "id": "_9FS5fW9FoQv"
      },
      "execution_count": null,
      "outputs": []
    },
    {
      "cell_type": "code",
      "source": [
        "sum(p.nelement() for p in parameters) # numbers of parameters in total"
      ],
      "metadata": {
        "colab": {
          "base_uri": "https://localhost:8080/"
        },
        "id": "mNecC_UoG7OB",
        "outputId": "574037df-a95f-492e-bd66-b5942c54dab8"
      },
      "execution_count": null,
      "outputs": [
        {
          "output_type": "execute_result",
          "data": {
            "text/plain": [
              "3481"
            ]
          },
          "metadata": {},
          "execution_count": 28
        }
      ]
    },
    {
      "cell_type": "markdown",
      "source": [
        "# **6-implementing the training loop, overfitting one batch**"
      ],
      "metadata": {
        "id": "klNiChPIbiXr"
      }
    },
    {
      "cell_type": "code",
      "source": [
        "steps=20\n",
        "\n",
        "for k in range(steps):\n",
        "  # forward pass\n",
        "  emb=C[X] # (32,3,2)\n",
        "  h=torch.tanh(emb.view(emb.shape[0],emb.shape[1]*emb.shape[2]) @ w1+b1) # (32,100)\n",
        "  logits=h @ w2+b2 # (32,27)\n",
        "  loss=F.cross_entropy(logits,Y)\n",
        "  print(f'loss:{loss.item()},epochs:{k+1}')\n",
        "\n",
        "  #  backward pass\n",
        "\n",
        "  for  p  in parameters:\n",
        "    p.grad=None\n",
        "\n",
        "  loss.backward()\n",
        "\n",
        "  #  update\n",
        "\n",
        "  for p in parameters:\n",
        "    p.data+=-0.1 * p.grad"
      ],
      "metadata": {
        "colab": {
          "base_uri": "https://localhost:8080/"
        },
        "id": "QWHhk37YGc_p",
        "outputId": "4aba249f-946f-41b2-e236-51dd9796490d"
      },
      "execution_count": null,
      "outputs": [
        {
          "output_type": "stream",
          "name": "stdout",
          "text": [
            "loss:20.017545700073242,epochs:1\n",
            "loss:17.685405731201172,epochs:2\n",
            "loss:15.195794105529785,epochs:3\n",
            "loss:14.302081108093262,epochs:4\n",
            "loss:13.340991973876953,epochs:5\n",
            "loss:12.605304718017578,epochs:6\n",
            "loss:11.910996437072754,epochs:7\n",
            "loss:11.36402416229248,epochs:8\n",
            "loss:10.579933166503906,epochs:9\n",
            "loss:10.025096893310547,epochs:10\n",
            "loss:9.50571060180664,epochs:11\n",
            "loss:9.038402557373047,epochs:12\n",
            "loss:8.609878540039062,epochs:13\n",
            "loss:8.225211143493652,epochs:14\n",
            "loss:7.871665000915527,epochs:15\n",
            "loss:7.556427001953125,epochs:16\n",
            "loss:7.263383865356445,epochs:17\n",
            "loss:7.002638339996338,epochs:18\n",
            "loss:6.750802993774414,epochs:19\n",
            "loss:6.524465084075928,epochs:20\n"
          ]
        }
      ]
    },
    {
      "cell_type": "code",
      "source": [
        "loss"
      ],
      "metadata": {
        "colab": {
          "base_uri": "https://localhost:8080/"
        },
        "id": "TijtNZu_TQLM",
        "outputId": "75e46a63-3906-4571-898d-d34400654632"
      },
      "execution_count": null,
      "outputs": [
        {
          "output_type": "execute_result",
          "data": {
            "text/plain": [
              "tensor(6.5245, grad_fn=<NllLossBackward0>)"
            ]
          },
          "metadata": {},
          "execution_count": 30
        }
      ]
    },
    {
      "cell_type": "markdown",
      "source": [
        "- Many times the data may not fit **in the memory**, a recommendation **is to use batches**..  In addition to being a **good approach**, it also **speeds up training considerably**"
      ],
      "metadata": {
        "id": "whsCPL8sgQkI"
      }
    },
    {
      "cell_type": "markdown",
      "source": [
        "# **7-Training on the full dataset, minibatches**"
      ],
      "metadata": {
        "id": "KjSV3AYTeam-"
      }
    },
    {
      "cell_type": "code",
      "source": [
        "steps=10\n",
        "for  k in range(steps):\n",
        "\n",
        "  ix=torch.randint(0,X.shape[0],(32,))\n",
        "  # forward pass\n",
        "  emb=C[X[ix]] # (32,3,2)\n",
        "  h=torch.tanh(emb.view(emb.shape[0],emb.shape[1]*emb.shape[2]) @ w1+b1) # (32,100)\n",
        "  logits=h @ w2+b2 # (32,27)\n",
        "  loss=F.cross_entropy(logits,Y[ix])\n",
        "  print(f'loss:{loss.item()},epochs:{k+1}')\n",
        "\n",
        "  for  p in parameters:\n",
        "    p.grad=None\n",
        "\n",
        "  # backward pass\n",
        "  loss.backward()\n",
        "\n",
        "  # update\n",
        "  for p  in parameters:\n",
        "    p.data+=-0.1*p.grad"
      ],
      "metadata": {
        "colab": {
          "base_uri": "https://localhost:8080/"
        },
        "id": "yL8xCMDNgaGJ",
        "outputId": "baf81609-f322-42ed-c4c1-a0b6666c8a47"
      },
      "execution_count": null,
      "outputs": [
        {
          "output_type": "stream",
          "name": "stdout",
          "text": [
            "loss:6.515289306640625,epochs:1\n",
            "loss:6.496755599975586,epochs:2\n",
            "loss:6.020139217376709,epochs:3\n",
            "loss:4.830341339111328,epochs:4\n",
            "loss:5.445677757263184,epochs:5\n",
            "loss:5.187361240386963,epochs:6\n",
            "loss:4.913257598876953,epochs:7\n",
            "loss:5.95115852355957,epochs:8\n",
            "loss:7.3996195793151855,epochs:9\n",
            "loss:6.422539710998535,epochs:10\n"
          ]
        }
      ]
    },
    {
      "cell_type": "markdown",
      "source": [
        "# **8-Finding a good initial learning rate**"
      ],
      "metadata": {
        "id": "ANtMNHhglZ0g"
      }
    },
    {
      "cell_type": "markdown",
      "source": [
        "- It is known that the **learning rate is essential** for us to always take **good steps in the right direction**"
      ],
      "metadata": {
        "id": "bwleeLcXmGA3"
      }
    },
    {
      "cell_type": "markdown",
      "source": [
        "- However, we don't know what the best **learning rate is**."
      ],
      "metadata": {
        "id": "IPng97FxmXC6"
      }
    },
    {
      "cell_type": "markdown",
      "source": [
        "- One of the ways to know this is by **experimentation**, testing various **learning rates** and finding out which one is **the best.**"
      ],
      "metadata": {
        "id": "5E2m9klUmost"
      }
    },
    {
      "cell_type": "markdown",
      "source": [
        "- However, what happens when the **learning rate is too small?**"
      ],
      "metadata": {
        "id": "15uIvdcSm3rQ"
      }
    },
    {
      "cell_type": "code",
      "source": [
        "steps=20\n",
        "for  k in range(steps):\n",
        "\n",
        "  ix=torch.randint(0,X.shape[0],(32,))\n",
        "  # forward pass\n",
        "  emb=C[X[ix]] # (32,3,2)\n",
        "  h=torch.tanh(emb.view(emb.shape[0],emb.shape[1]*emb.shape[2]) @ w1+b1) # (32,100)\n",
        "  logits=h @ w2+b2 # (32,27)\n",
        "  loss=F.cross_entropy(logits,Y[ix])\n",
        "  print(f'loss:{loss.item()},epochs:{k+1}')\n",
        "\n",
        "  for  p in parameters:\n",
        "    p.grad=None\n",
        "\n",
        "  # backward pass\n",
        "  loss.backward()\n",
        "\n",
        "  # update\n",
        "  for p  in parameters:\n",
        "    p.data+=-0.0000001*p.grad"
      ],
      "metadata": {
        "colab": {
          "base_uri": "https://localhost:8080/"
        },
        "id": "JF5bCu47lyWk",
        "outputId": "c29742b2-7511-4383-a2af-bceecfd2f7d2"
      },
      "execution_count": null,
      "outputs": [
        {
          "output_type": "stream",
          "name": "stdout",
          "text": [
            "loss:3.8479089736938477,epochs:1\n",
            "loss:5.273167610168457,epochs:2\n",
            "loss:6.065744876861572,epochs:3\n",
            "loss:4.877919673919678,epochs:4\n",
            "loss:4.809784412384033,epochs:5\n",
            "loss:4.57532262802124,epochs:6\n",
            "loss:5.457077980041504,epochs:7\n",
            "loss:5.416530132293701,epochs:8\n",
            "loss:4.565851211547852,epochs:9\n",
            "loss:4.878824234008789,epochs:10\n",
            "loss:5.349943161010742,epochs:11\n",
            "loss:6.193647384643555,epochs:12\n",
            "loss:5.759314060211182,epochs:13\n",
            "loss:6.0899763107299805,epochs:14\n",
            "loss:4.689331531524658,epochs:15\n",
            "loss:5.290650844573975,epochs:16\n",
            "loss:6.598118305206299,epochs:17\n",
            "loss:5.041703701019287,epochs:18\n",
            "loss:5.981029987335205,epochs:19\n",
            "loss:5.285632610321045,epochs:20\n"
          ]
        }
      ]
    },
    {
      "cell_type": "markdown",
      "source": [
        "- When the **learning rate is too small**, the step we take in the right direction is too small. This causes the error to decrease very slowly\n",
        "\n",
        "\n",
        "- In the same way, **when the learning rate is too long**, we can take too **big steps in the right direction**, but **this has its consequences**, we can go beyond the **minimum** of the function.**What we don't want**"
      ],
      "metadata": {
        "id": "KWKMOPMZnpDS"
      }
    },
    {
      "cell_type": "markdown",
      "source": [
        "- Certainly, there are many **ways to solve this problem**... One of the alternatives is to **create a linear spacing** , where each epoch we increase the learning rate a little by taking a small step between the **previous rate and the next**"
      ],
      "metadata": {
        "id": "izSOnHO9qvbk"
      }
    },
    {
      "cell_type": "code",
      "source": [
        "lre=torch.linspace(-3,0,10000)\n",
        "lrs=100**lre\n",
        "lrs[:10]"
      ],
      "metadata": {
        "colab": {
          "base_uri": "https://localhost:8080/"
        },
        "id": "gODFxsRyrJO6",
        "outputId": "7ac5d570-1689-46eb-c0d1-5fb35a8d4fca"
      },
      "execution_count": null,
      "outputs": [
        {
          "output_type": "execute_result",
          "data": {
            "text/plain": [
              "tensor([1.0000e-06, 1.0014e-06, 1.0028e-06, 1.0042e-06, 1.0055e-06, 1.0069e-06,\n",
              "        1.0083e-06, 1.0097e-06, 1.0111e-06, 1.0125e-06])"
            ]
          },
          "metadata": {},
          "execution_count": 33
        }
      ]
    },
    {
      "cell_type": "code",
      "source": [
        "lri=[]\n",
        "lossi=[]\n",
        "\n",
        "steps=10000\n",
        "for  i in range(steps):\n",
        "\n",
        "  ix=torch.randint(0,X.shape[0],(32,))\n",
        "  # forward pass\n",
        "  emb=C[X[ix]] # (32,3,2)\n",
        "  h=torch.tanh(emb.view(emb.shape[0],emb.shape[1]*emb.shape[2]) @ w1+b1) # (32,100)\n",
        "  logits=h @ w2+b2 # (32,27)\n",
        "  loss=F.cross_entropy(logits,Y[ix])\n",
        "  loss\n",
        "  #print(f'loss:{loss.item()},epochs:{i+1}')\n",
        "\n",
        "  for  p in parameters:\n",
        "    p.grad=None\n",
        "\n",
        "  # backward pass\n",
        "  loss.backward()\n",
        "\n",
        "  # update\n",
        "  lr=lrs[i]\n",
        "  for p  in parameters:\n",
        "    p.data+=-lr*p.grad\n",
        "\n",
        "    # strack stats\n",
        "  lri.append(lre[i])\n",
        "  lossi.append(loss.item())"
      ],
      "metadata": {
        "id": "W_kuKFdPrbNF"
      },
      "execution_count": null,
      "outputs": []
    },
    {
      "cell_type": "code",
      "source": [
        "plt.plot(lri,lossi)"
      ],
      "metadata": {
        "colab": {
          "base_uri": "https://localhost:8080/",
          "height": 447
        },
        "id": "RhTxK2AAvn3q",
        "outputId": "65cde4a9-b6b0-4cff-f2c3-518118fa4b32"
      },
      "execution_count": null,
      "outputs": [
        {
          "output_type": "execute_result",
          "data": {
            "text/plain": [
              "[<matplotlib.lines.Line2D at 0x78bfc2758670>]"
            ]
          },
          "metadata": {},
          "execution_count": 35
        },
        {
          "output_type": "display_data",
          "data": {
            "text/plain": [
              "<Figure size 640x480 with 1 Axes>"
            ],
            "image/png": "[encoded data removed]"
          },
          "metadata": {}
        }
      ]
    },
    {
      "cell_type": "markdown",
      "source": [
        "- Visually we can see that from **point 0.5** on the x-axis we have a **good learning rate**.. from 0.5 upwards it seems that error **starts to gain to increase again**"
      ],
      "metadata": {
        "id": "oNaXFe11yqdS"
      }
    },
    {
      "cell_type": "code",
      "source": [
        "# forward pass\n",
        "emb=C[X] # (32,3,2)\n",
        "h=torch.tanh(emb.view(emb.shape[0],emb.shape[1]*emb.shape[2]) @ w1+b1) # (32,100)\n",
        "logits=h @ w2+b2 # (32,27)\n",
        "loss=F.cross_entropy(logits,Y)\n",
        "loss\n"
      ],
      "metadata": {
        "colab": {
          "base_uri": "https://localhost:8080/"
        },
        "id": "WRz0STJjz7Xn",
        "outputId": "d19c8f0f-4d4e-426e-a2d2-46a0b456fc96"
      },
      "execution_count": null,
      "outputs": [
        {
          "output_type": "execute_result",
          "data": {
            "text/plain": [
              "tensor(4.8610, grad_fn=<NllLossBackward0>)"
            ]
          },
          "metadata": {},
          "execution_count": 36
        }
      ]
    },
    {
      "cell_type": "code",
      "source": [
        "lri=[]\n",
        "lossi=[]\n",
        "\n",
        "steps=10000\n",
        "for  i in range(steps):\n",
        "\n",
        "  ix=torch.randint(0,X.shape[0],(32,))\n",
        "  # forward pass\n",
        "  emb=C[X[ix]] # (32,3,2)\n",
        "  h=torch.tanh(emb.view(emb.shape[0],emb.shape[1]*emb.shape[2]) @ w1+b1) # (32,100)\n",
        "  logits=h @ w2+b2 # (32,27)\n",
        "  loss=F.cross_entropy(logits,Y[ix])\n",
        "  loss\n",
        "  #print(f'loss:{loss.item()},epochs:{i+1}')\n",
        "\n",
        "  for  p in parameters:\n",
        "    p.grad=None\n",
        "\n",
        "  # backward pass\n",
        "  loss.backward()\n",
        "\n",
        "  # update\n",
        "  #lr=lrs[i]\n",
        "  for p  in parameters:\n",
        "    p.data+=-0.01*p.grad\n",
        "\n",
        "    # strack stats\n",
        "    #lri.append(lre[i])\n",
        "    #lossi.append(loss.item())"
      ],
      "metadata": {
        "id": "jdCb477U0_pT"
      },
      "execution_count": null,
      "outputs": []
    },
    {
      "cell_type": "code",
      "source": [
        "emb=C[X] # (32,3,2)\n",
        "h=torch.tanh(emb.view(emb.shape[0],emb.shape[1]*emb.shape[2]) @ w1+b1) # (32,100)\n",
        "logits=h @ w2+b2 # (32,27)\n",
        "loss=F.cross_entropy(logits,Y)\n",
        "loss"
      ],
      "metadata": {
        "colab": {
          "base_uri": "https://localhost:8080/"
        },
        "id": "Hm88BgJx16xc",
        "outputId": "63ad9769-5072-42bb-d6df-d62829c277b2"
      },
      "execution_count": null,
      "outputs": [
        {
          "output_type": "execute_result",
          "data": {
            "text/plain": [
              "tensor(2.4682, grad_fn=<NllLossBackward0>)"
            ]
          },
          "metadata": {},
          "execution_count": 38
        }
      ]
    },
    {
      "cell_type": "markdown",
      "source": [
        "# **9 - Splitting up the dataset into train/val/test splits and why**"
      ],
      "metadata": {
        "id": "-VqAQq8J2xuS"
      }
    },
    {
      "cell_type": "code",
      "source": [
        "# training split, dev/validations split, test split\n",
        "#80         ,       #10             ,      #10"
      ],
      "metadata": {
        "id": "MkyXWQ7Z3cWV"
      },
      "execution_count": null,
      "outputs": []
    },
    {
      "cell_type": "code",
      "source": [
        "def build_dataset(words):\n",
        "\n",
        "  X,Y=[],[]\n",
        "\n",
        "  block_size=3\n",
        "  context=[0]*block_size\n",
        "  for w in words:\n",
        "    for ch in w + '.':\n",
        "      ix=stoi[ch]\n",
        "      X.append(context)\n",
        "      Y.append(ix)\n",
        "      context=context[1:] + [ix]\n",
        "\n",
        "  X=torch.tensor(X)\n",
        "  Y=torch.tensor(Y)\n",
        "  print(X.shape,Y.shape)\n",
        "\n",
        "  return X,Y"
      ],
      "metadata": {
        "id": "MOXc49-M_2B0"
      },
      "execution_count": null,
      "outputs": []
    },
    {
      "cell_type": "code",
      "source": [
        "import random\n",
        "random.seed(42)\n",
        "random.shuffle(words)\n",
        "n1=int(0.8*len(words))\n",
        "n2=int(0.9*len(words))\n",
        "Xtr,Ytr=build_dataset(words[:n1])\n",
        "Xdev,Ydev=build_dataset(words[n1:n2])\n",
        "Xte,yte=build_dataset(words[n2:])"
      ],
      "metadata": {
        "colab": {
          "base_uri": "https://localhost:8080/"
        },
        "id": "HlKneHH5_7OD",
        "outputId": "71bb37fe-3394-42c0-fc40-d4cdd8807592"
      },
      "execution_count": null,
      "outputs": [
        {
          "output_type": "stream",
          "name": "stdout",
          "text": [
            "torch.Size([182625, 3]) torch.Size([182625])\n",
            "torch.Size([22655, 3]) torch.Size([22655])\n",
            "torch.Size([22866, 3]) torch.Size([22866])\n"
          ]
        }
      ]
    },
    {
      "cell_type": "code",
      "source": [
        "lri=[]\n",
        "lossi=[]\n",
        "\n",
        "steps=10000\n",
        "for  i in range(steps):\n",
        "\n",
        "  ix=torch.randint(0,Xtr.shape[0],(32,))\n",
        "  # forward pass\n",
        "  emb=C[Xtr[ix]] # (32,3,2)\n",
        "  h=torch.tanh(emb.view(emb.shape[0],emb.shape[1]*emb.shape[2]) @ w1+b1) # (32,100)\n",
        "  logits=h @ w2+b2 # (32,27)\n",
        "  loss=F.cross_entropy(logits,Ytr[ix])\n",
        "  loss\n",
        "  #print(f'loss:{loss.item()},epochs:{i+1}')\n",
        "\n",
        "  for  p in parameters:\n",
        "    p.grad=None\n",
        "\n",
        "  # backward pass\n",
        "  loss.backward()\n",
        "\n",
        "  # update\n",
        "  #lr=lrs[i]\n",
        "  for p  in parameters:\n",
        "    p.data+=-0.01*p.grad\n",
        "\n",
        "    # strack stats\n",
        "    #lri.append(lre[i])\n",
        "    #lossi.append(loss.item())"
      ],
      "metadata": {
        "id": "eKZ_PYfOAntC"
      },
      "execution_count": null,
      "outputs": []
    },
    {
      "cell_type": "code",
      "source": [
        "emb=C[Xdev] # (32,3,2)\n",
        "h=torch.tanh(emb.view(emb.shape[0],emb.shape[1]*emb.shape[2]) @ w1+b1) # (32,100)\n",
        "logits=h @ w2+b2 # (32,27)\n",
        "loss=F.cross_entropy(logits,Ydev)\n",
        "loss"
      ],
      "metadata": {
        "colab": {
          "base_uri": "https://localhost:8080/"
        },
        "id": "k57oX-VyAyi8",
        "outputId": "7bdbfa00-6cbd-4216-83fb-a7d83a79b15c"
      },
      "execution_count": null,
      "outputs": [
        {
          "output_type": "execute_result",
          "data": {
            "text/plain": [
              "tensor(2.4470, grad_fn=<NllLossBackward0>)"
            ]
          },
          "metadata": {},
          "execution_count": 43
        }
      ]
    },
    {
      "cell_type": "markdown",
      "source": [
        "#**10-Experiment: larger hidden layer**"
      ],
      "metadata": {
        "id": "qqq9aL0FCprt"
      }
    },
    {
      "cell_type": "code",
      "source": [
        "g=torch.Generator().manual_seed(2134563788) # for reproducibility\n",
        "C=torch.randn([27,2],requires_grad=True)\n",
        "w1=torch.randn([6,300],requires_grad=True)\n",
        "b1=torch.randn(300,requires_grad=True)\n",
        "w2=torch.randn([300,27],requires_grad=True)\n",
        "b2=torch.randn(27,requires_grad=True)\n",
        "parameters=[C,w1,b1,w2,b2]"
      ],
      "metadata": {
        "id": "oyCiPaYpDN_0"
      },
      "execution_count": null,
      "outputs": []
    },
    {
      "cell_type": "code",
      "source": [
        "lri=[]\n",
        "lossi=[]\n",
        "stepsi=[]\n",
        "\n",
        "steps=40000\n",
        "for  i in range(steps):\n",
        "\n",
        "  ix=torch.randint(0,Xtr.shape[0],(32,))\n",
        "  # forward pass\n",
        "  emb=C[Xtr[ix]] # (32,3,2)\n",
        "  h=torch.tanh(emb.view(emb.shape[0],emb.shape[1]*emb.shape[2]) @ w1+b1) # (32,100)\n",
        "  logits=h @ w2+b2 # (32,27)\n",
        "  loss=F.cross_entropy(logits,Ytr[ix])\n",
        "  loss\n",
        "  #print(f'loss:{loss.item()},epochs:{i+1}')\n",
        "\n",
        "  for  p in parameters:\n",
        "    p.grad=None\n",
        "\n",
        "  # backward pass\n",
        "  loss.backward()\n",
        "\n",
        "  # update\n",
        "  lr=0.5\n",
        "  for p  in parameters:\n",
        "    p.data+=-lr*p.grad\n",
        "\n",
        "  # strack stats\n",
        "  lossi.append(loss.item())\n",
        "  stepsi.append(i)"
      ],
      "metadata": {
        "id": "Ry8mGueXDdVI"
      },
      "execution_count": null,
      "outputs": []
    },
    {
      "cell_type": "code",
      "source": [
        "plt.plot(lossi,stepsi)"
      ],
      "metadata": {
        "colab": {
          "base_uri": "https://localhost:8080/",
          "height": 447
        },
        "id": "YotuFJXIH5hQ",
        "outputId": "a002f6ff-3087-4a18-8218-20afde8f9e05"
      },
      "execution_count": null,
      "outputs": [
        {
          "output_type": "execute_result",
          "data": {
            "text/plain": [
              "[<matplotlib.lines.Line2D at 0x78bfc314a620>]"
            ]
          },
          "metadata": {},
          "execution_count": 46
        },
        {
          "output_type": "display_data",
          "data": {
            "text/plain": [
              "<Figure size 640x480 with 1 Axes>"
            ],
            "image/png": "[encoded data removed]"
          },
          "metadata": {}
        }
      ]
    },
    {
      "cell_type": "code",
      "source": [
        "emb=C[Xdev] # (32,3,2)\n",
        "h=torch.tanh(emb.view(emb.shape[0],emb.shape[1]*emb.shape[2]) @ w1+b1) # (32,100)\n",
        "logits=h @ w2+b2 # (32,27)\n",
        "loss=F.cross_entropy(logits,Ydev)\n",
        "loss"
      ],
      "metadata": {
        "colab": {
          "base_uri": "https://localhost:8080/"
        },
        "id": "gqiduZT8GWAV",
        "outputId": "005f6fa4-9b11-4985-b8a1-efb32cd2f93d"
      },
      "execution_count": null,
      "outputs": [
        {
          "output_type": "execute_result",
          "data": {
            "text/plain": [
              "tensor(2.4150, grad_fn=<NllLossBackward0>)"
            ]
          },
          "metadata": {},
          "execution_count": 47
        }
      ]
    },
    {
      "cell_type": "markdown",
      "source": [
        "# **11- visualizing the character embeddings**"
      ],
      "metadata": {
        "id": "lRgXoUHUJJWw"
      }
    },
    {
      "cell_type": "code",
      "source": [
        "C[Xtr[0,0]]"
      ],
      "metadata": {
        "colab": {
          "base_uri": "https://localhost:8080/"
        },
        "id": "q9g2VykfJ7Cb",
        "outputId": "48499d99-6918-4d8f-daef-50c4febfdf18"
      },
      "execution_count": null,
      "outputs": [
        {
          "output_type": "execute_result",
          "data": {
            "text/plain": [
              "tensor([-1.2740,  1.9163], grad_fn=<SelectBackward0>)"
            ]
          },
          "metadata": {},
          "execution_count": 48
        }
      ]
    },
    {
      "cell_type": "code",
      "source": [
        "plt.figure(figsize=(8,8))\n",
        "plt.scatter(C[:,0].data,C[:,1].data,s=200)\n",
        "for i in range(C.shape[0]):\n",
        "  plt.text(C[i,0].item(),C[i,1].item(),itos[i],ha='center',va='center',color='yellow')\n",
        "plt.grid('minor')"
      ],
      "metadata": {
        "colab": {
          "base_uri": "https://localhost:8080/",
          "height": 676
        },
        "id": "7yiLC7WHJRbh",
        "outputId": "d61a94f9-ec9c-439d-8870-73d87ea35da2"
      },
      "execution_count": null,
      "outputs": [
        {
          "output_type": "display_data",
          "data": {
            "text/plain": [
              "<Figure size 800x800 with 1 Axes>"
            ],
            "image/png": "[encoded data removed]"
          },
          "metadata": {}
        }
      ]
    },
    {
      "cell_type": "markdown",
      "source": [
        "# **12-Experiment: larger embedding size**"
      ],
      "metadata": {
        "id": "yPrWPGikMTL9"
      }
    },
    {
      "cell_type": "code",
      "source": [
        "g=torch.Generator().manual_seed(2134563788) # for reproducibility\n",
        "C=torch.randn([27,10],requires_grad=True)\n",
        "w1=torch.randn([30,200],requires_grad=True)\n",
        "b1=torch.randn(200,requires_grad=True)\n",
        "w2=torch.randn([200,27],requires_grad=True)\n",
        "b2=torch.randn(27,requires_grad=True)\n",
        "parameters=[C,w1,b1,w2,b2]"
      ],
      "metadata": {
        "id": "AAbUAJ32M0bK"
      },
      "execution_count": null,
      "outputs": []
    },
    {
      "cell_type": "code",
      "source": [
        "sum(i.nelement() for i in parameters)"
      ],
      "metadata": {
        "colab": {
          "base_uri": "https://localhost:8080/"
        },
        "id": "M4fydG3_No-P",
        "outputId": "b926a254-6ecf-4f3d-f61c-7ddf9ad467f1"
      },
      "execution_count": null,
      "outputs": [
        {
          "output_type": "execute_result",
          "data": {
            "text/plain": [
              "11897"
            ]
          },
          "metadata": {},
          "execution_count": 51
        }
      ]
    },
    {
      "cell_type": "code",
      "source": [
        "lri=[]\n",
        "lossi=[]\n",
        "stepsi=[]"
      ],
      "metadata": {
        "id": "L_CpfQhVOiwo"
      },
      "execution_count": null,
      "outputs": []
    },
    {
      "cell_type": "code",
      "source": [
        "steps=40000\n",
        "for  i in range(steps):\n",
        "\n",
        "  ix=torch.randint(0,Xtr.shape[0],(32,))\n",
        "  # forward pass\n",
        "  emb=C[Xtr[ix]] # (32,3,2)\n",
        "  h=torch.tanh(emb.view(emb.shape[0],emb.shape[1]*emb.shape[2]) @ w1+b1) # (32,100)\n",
        "  logits=h @ w2+b2 # (32,27)\n",
        "  loss=F.cross_entropy(logits,Ytr[ix])\n",
        "  loss\n",
        "  #print(f'loss:{loss.item()},epochs:{i+1}')\n",
        "\n",
        "  for  p in parameters:\n",
        "    p.grad=None\n",
        "\n",
        "  # backward pass\n",
        "  loss.backward()\n",
        "\n",
        "  # update\n",
        "  lr=0.01\n",
        "  for p  in parameters:\n",
        "    p.data+=-lr*p.grad\n",
        "\n",
        "    # strack stats\n",
        "  stepsi.append(i)\n",
        "  lossi.append(loss.log10().item())"
      ],
      "metadata": {
        "id": "jDJ-Y8cvOIAH"
      },
      "execution_count": null,
      "outputs": []
    },
    {
      "cell_type": "code",
      "source": [
        "plt.plot(stepsi,lossi)"
      ],
      "metadata": {
        "colab": {
          "base_uri": "https://localhost:8080/",
          "height": 447
        },
        "id": "hEALEP3FPLZt",
        "outputId": "9854dee8-6e42-4048-f168-3015fc9ed517"
      },
      "execution_count": null,
      "outputs": [
        {
          "output_type": "execute_result",
          "data": {
            "text/plain": [
              "[<matplotlib.lines.Line2D at 0x78bfc31783a0>]"
            ]
          },
          "metadata": {},
          "execution_count": 54
        },
        {
          "output_type": "display_data",
          "data": {
            "text/plain": [
              "<Figure size 640x480 with 1 Axes>"
            ],
            "image/png": "[encoded data removed]"
          },
          "metadata": {}
        }
      ]
    },
    {
      "cell_type": "code",
      "source": [
        "emb=C[Xtr] # (32,3,2)\n",
        "h=torch.tanh(emb.view(emb.shape[0],emb.shape[1]*emb.shape[2]) @ w1+b1) # (32,100)\n",
        "logits=h @ w2+b2 # (32,27)\n",
        "loss=F.cross_entropy(logits,Ytr)\n",
        "loss"
      ],
      "metadata": {
        "colab": {
          "base_uri": "https://localhost:8080/"
        },
        "id": "pgC7a-ZqO3bu",
        "outputId": "3a94b0be-e2ef-4a34-904b-6431932d5442"
      },
      "execution_count": null,
      "outputs": [
        {
          "output_type": "execute_result",
          "data": {
            "text/plain": [
              "tensor(2.4575, grad_fn=<NllLossBackward0>)"
            ]
          },
          "metadata": {},
          "execution_count": 55
        }
      ]
    },
    {
      "cell_type": "code",
      "source": [
        "emb=C[Xdev] # (32,3,2)\n",
        "h=torch.tanh(emb.view(emb.shape[0],emb.shape[1]*emb.shape[2]) @ w1+b1) # (32,100)\n",
        "logits=h @ w2+b2 # (32,27)\n",
        "loss=F.cross_entropy(logits,Ydev)\n",
        "loss"
      ],
      "metadata": {
        "colab": {
          "base_uri": "https://localhost:8080/"
        },
        "id": "dKoBsmfXO49M",
        "outputId": "7528778b-f849-4388-ca88-c43302750f0f"
      },
      "execution_count": null,
      "outputs": [
        {
          "output_type": "execute_result",
          "data": {
            "text/plain": [
              "tensor(2.4562, grad_fn=<NllLossBackward0>)"
            ]
          },
          "metadata": {},
          "execution_count": 56
        }
      ]
    },
    {
      "cell_type": "code",
      "source": [
        "plt.figure(figsize=(8,8))\n",
        "plt.scatter(C[:,0].data,C[:,1].data,s=200)\n",
        "for i in range(C.shape[0]):\n",
        "  plt.text(C[i,0],C[i,1],itos[i],ha='center',va='center',color='yellow')\n",
        "\n",
        "plt.grid('minor')"
      ],
      "metadata": {
        "colab": {
          "base_uri": "https://localhost:8080/",
          "height": 676
        },
        "id": "54GQ2kBdSOqf",
        "outputId": "511d67e1-597a-4430-92c5-6bcaba5ea4eb"
      },
      "execution_count": null,
      "outputs": [
        {
          "output_type": "display_data",
          "data": {
            "text/plain": [
              "<Figure size 800x800 with 1 Axes>"
            ],
            "image/png": "[encoded data removed]"
          },
          "metadata": {}
        }
      ]
    },
    {
      "cell_type": "markdown",
      "source": [
        "# **13-Sampling from the model**"
      ],
      "metadata": {
        "id": "Hp0oo1yzYetS"
      }
    },
    {
      "cell_type": "code",
      "source": [
        "g=torch.Generator().manual_seed(2147483647+10)\n",
        "\n",
        "for _  in range(20):\n",
        "  out = []\n",
        "\n",
        "  context=[0] * block_size\n",
        "\n",
        "  while True:\n",
        "    emb=C[torch.tensor([context])]\n",
        "    h=torch.tanh(emb.view(1,-1) @ w1+b1)\n",
        "    logits=h @ w2+b2\n",
        "    y_pred=F.softmax(logits,dim=1)\n",
        "    ix=torch.multinomial(y_pred,num_samples=1,replacement=True,generator=g).item()\n",
        "    context=context[1:] + [ix]\n",
        "    out.append(ix)\n",
        "    if ix ==0:\n",
        "      break\n",
        "  print(''.join(itos[i] for i in out))\n"
      ],
      "metadata": {
        "colab": {
          "base_uri": "https://localhost:8080/"
        },
        "id": "Zglq3z-hY679",
        "outputId": "cc6228c6-638d-4d18-a25e-601e9dd3ef86"
      },
      "execution_count": null,
      "outputs": [
        {
          "output_type": "stream",
          "name": "stdout",
          "text": [
            "bria.\n",
            "mmyan.\n",
            "dee.\n",
            "ved.\n",
            "ryah.\n",
            "bethan.\n",
            "bri.\n",
            "bri.\n",
            "aden.\n",
            "daelii.\n",
            "brizaen.\n",
            "ddennesonnar.\n",
            "vayzimtokelin.\n",
            "shuber.\n",
            "dhi.\n",
            "bel.\n",
            "vin.\n",
            "rweel.\n",
            "pxnt.\n",
            "porou.\n"
          ]
        }
      ]
    }
  ]
}